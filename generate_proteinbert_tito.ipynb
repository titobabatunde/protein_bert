{
 "cells": [
  {
   "cell_type": "code",
   "execution_count": 1,
   "metadata": {},
   "outputs": [],
   "source": [
    "import os\n",
    "import time\n",
    "import os.path\n",
    "import argparse\n",
    "import numpy as np\n",
    "from tqdm import tqdm"
   ]
  },
  {
   "cell_type": "code",
   "execution_count": 2,
   "metadata": {},
   "outputs": [],
   "source": [
    "from lxml import etree\n",
    "from pyfaidx import Faidx\n",
    "import pandas as pd\n",
    "from IPython.display import display"
   ]
  },
  {
   "cell_type": "code",
   "execution_count": 3,
   "metadata": {},
   "outputs": [
    {
     "name": "stderr",
     "output_type": "stream",
     "text": [
      "2023-11-30 22:33:25.511312: I tensorflow/core/platform/cpu_feature_guard.cc:182] This TensorFlow binary is optimized to use available CPU instructions in performance-critical operations.\n",
      "To enable the following instructions: AVX2 FMA, in other operations, rebuild TensorFlow with the appropriate compiler flags.\n",
      "2023-11-30 22:33:26.183952: W tensorflow/compiler/tf2tensorrt/utils/py_utils.cc:38] TF-TRT Warning: Could not find TensorRT\n"
     ]
    }
   ],
   "source": [
    "##  @brief  :   Keras & TF Libraries\n",
    "from tensorflow import keras\n",
    "import tensorflow as tf\n",
    "from tensorflow import keras\n",
    "from keras import backend as K"
   ]
  },
  {
   "cell_type": "code",
   "execution_count": 4,
   "metadata": {},
   "outputs": [],
   "source": [
    "def read_list(file_name):\n",
    "    \"\"\"\n",
    "    read a text file to get the list of elements\n",
    "    :param file_name: complete path to a file (string)\n",
    "    :return: list of elements in the text file\n",
    "    \"\"\"\n",
    "    with open(file_name, 'r') as f:\n",
    "        text = f.read().splitlines()\n",
    "    return text\n",
    "\n",
    "\n",
    "def read_fasta_file(fname):\n",
    "    \"\"\"\n",
    "    reads the sequence from the fasta file\n",
    "    :param fname: filename (string)\n",
    "    :return: protein sequence  (string)\n",
    "    \"\"\"\n",
    "    with open(fname + '.fasta', 'r') as f:\n",
    "        AA = ''.join(f.read().splitlines()[1:])\n",
    "    return AA"
   ]
  },
  {
   "cell_type": "code",
   "execution_count": 5,
   "metadata": {},
   "outputs": [],
   "source": [
    "##  @brief  :   Local Modules\n",
    "from proteinbert.tokenization import ADDED_TOKENS_PER_SEQ, index_to_token, token_to_index\n",
    "from proteinbert.model_generation import ModelGenerator, PretrainingModelGenerator, FinetuningModelGenerator, InputEncoder, load_pretrained_model_from_dump, tokenize_seqs\n",
    "from proteinbert.existing_model_loading import load_pretrained_model\n",
    "from proteinbert.finetuning import OutputType, OutputSpec, finetune, evaluate_by_len\n",
    "from proteinbert.conv_and_global_attention_model import get_model_with_hidden_layers_as_outputs"
   ]
  },
  {
   "cell_type": "code",
   "execution_count": 6,
   "metadata": {},
   "outputs": [],
   "source": [
    "file_list = \"/mnt/nvme/home/bbabatun/IDL/PROJECT/SPOT-1D-LM/spot_1d_lm/lists/casp12.txt\"\n",
    "device = \"cuda:1\"\n",
    "## Need to define a maximum sequence input for model\n",
    "## Check sequence lengths whilst generating esm embeddings 1100 should be large enough\n",
    "MAX_SEQ_LEN = 1100  \n",
    "## Size of Embedding Dim\n",
    "EMBEDDING_DIM = 1562                     ## > NP Embeddings are size = (max_seq_len, embedding_dim)\n"
   ]
  },
  {
   "cell_type": "code",
   "execution_count": 7,
   "metadata": {},
   "outputs": [
    {
     "name": "stderr",
     "output_type": "stream",
     "text": [
      "2023-11-30 22:33:29.125112: W tensorflow/core/common_runtime/gpu/gpu_device.cc:1960] Cannot dlopen some GPU libraries. Please make sure the missing libraries mentioned above are installed properly if you would like to use GPU. Follow the guide at https://www.tensorflow.org/install/gpu for how to download and setup the required libraries for your platform.\n",
      "Skipping registering GPU devices...\n"
     ]
    }
   ],
   "source": [
    "##  @brief  :   Load Model and Tokenizer\n",
    "pretrained_model_generator, input_encoder = load_pretrained_model()\n",
    "#input_encoder.to(args.device)\n",
    "## Lodel model to obtain local_representations & global represntations\n",
    "model = get_model_with_hidden_layers_as_outputs(pretrained_model_generator.create_model(MAX_SEQ_LEN))\n",
    "#model.to(args.device) # I\n",
    "\n",
    "prot_list = read_list(file_list)"
   ]
  },
  {
   "cell_type": "code",
   "execution_count": 8,
   "metadata": {},
   "outputs": [
    {
     "name": "stdout",
     "output_type": "stream",
     "text": [
      "['T0859-D1', 'T0862-D1', 'T0863-D1', 'T0863-D2', 'T0864-D1', 'T0866-D1', 'T0869-D1', 'T0870-D1', 'T0886-D1', 'T0886-D2', 'T0892-D2', 'T0896-D3', 'T0897-D1', 'T0897-D2', 'T0898-D1', 'T0900-D1', 'T0904-D1', 'T0912-D3', 'T0918-D1', 'T0918-D2', 'T0918-D3', 'T0941-D1']\n"
     ]
    }
   ],
   "source": [
    "# pretrained_model_generator, input_encoder = load_pretrained_model('/mnt/nvme/home/bbabatun/proteinbert_models/epoch_92400_sample_23500000.pkl')\n",
    "print(prot_list)"
   ]
  },
  {
   "cell_type": "code",
   "execution_count": 13,
   "metadata": {},
   "outputs": [
    {
     "name": "stderr",
     "output_type": "stream",
     "text": [
      "100%|██████████| 22/22 [00:00<00:00, 27818.72it/s]"
     ]
    },
    {
     "name": "stdout",
     "output_type": "stream",
     "text": [
      "/mnt/nvme/home/bbabatun/IDL/PROJECT/SPOT-1D-LM/inputs/T0859-D1_pb.npy\n",
      "/mnt/nvme/home/bbabatun/IDL/PROJECT/SPOT-1D-LM/inputs/T0862-D1_pb.npy\n",
      "/mnt/nvme/home/bbabatun/IDL/PROJECT/SPOT-1D-LM/inputs/T0863-D1_pb.npy\n",
      "/mnt/nvme/home/bbabatun/IDL/PROJECT/SPOT-1D-LM/inputs/T0863-D2_pb.npy\n",
      "/mnt/nvme/home/bbabatun/IDL/PROJECT/SPOT-1D-LM/inputs/T0864-D1_pb.npy\n",
      "/mnt/nvme/home/bbabatun/IDL/PROJECT/SPOT-1D-LM/inputs/T0866-D1_pb.npy\n",
      "/mnt/nvme/home/bbabatun/IDL/PROJECT/SPOT-1D-LM/inputs/T0869-D1_pb.npy\n",
      "/mnt/nvme/home/bbabatun/IDL/PROJECT/SPOT-1D-LM/inputs/T0870-D1_pb.npy\n",
      "/mnt/nvme/home/bbabatun/IDL/PROJECT/SPOT-1D-LM/inputs/T0886-D1_pb.npy\n",
      "/mnt/nvme/home/bbabatun/IDL/PROJECT/SPOT-1D-LM/inputs/T0886-D2_pb.npy\n",
      "/mnt/nvme/home/bbabatun/IDL/PROJECT/SPOT-1D-LM/inputs/T0892-D2_pb.npy\n",
      "/mnt/nvme/home/bbabatun/IDL/PROJECT/SPOT-1D-LM/inputs/T0896-D3_pb.npy\n",
      "/mnt/nvme/home/bbabatun/IDL/PROJECT/SPOT-1D-LM/inputs/T0897-D1_pb.npy\n",
      "/mnt/nvme/home/bbabatun/IDL/PROJECT/SPOT-1D-LM/inputs/T0897-D2_pb.npy\n",
      "/mnt/nvme/home/bbabatun/IDL/PROJECT/SPOT-1D-LM/inputs/T0898-D1_pb.npy\n",
      "/mnt/nvme/home/bbabatun/IDL/PROJECT/SPOT-1D-LM/inputs/T0900-D1_pb.npy\n",
      "/mnt/nvme/home/bbabatun/IDL/PROJECT/SPOT-1D-LM/inputs/T0904-D1_pb.npy\n",
      "/mnt/nvme/home/bbabatun/IDL/PROJECT/SPOT-1D-LM/inputs/T0912-D3_pb.npy\n",
      "/mnt/nvme/home/bbabatun/IDL/PROJECT/SPOT-1D-LM/inputs/T0918-D1_pb.npy\n",
      "/mnt/nvme/home/bbabatun/IDL/PROJECT/SPOT-1D-LM/inputs/T0918-D2_pb.npy\n",
      "/mnt/nvme/home/bbabatun/IDL/PROJECT/SPOT-1D-LM/inputs/T0918-D3_pb.npy\n",
      "/mnt/nvme/home/bbabatun/IDL/PROJECT/SPOT-1D-LM/inputs/T0941-D1_pb.npy\n",
      " ProteinBERT embeddings generation completed ... \n"
     ]
    },
    {
     "name": "stderr",
     "output_type": "stream",
     "text": [
      "\n"
     ]
    }
   ],
   "source": [
    "##  @brief  :   Iterate through Files in Dataset & Generate Embeddings\n",
    "for prot_path in tqdm(prot_list):\n",
    "\n",
    "    prot_name = prot_path.split('/')[-1].split('.')[0]\n",
    "    save_path = \"/mnt/nvme/home/bbabatun/IDL/PROJECT/SPOT-1D-LM/inputs/\" + prot_name + \"_pb.npy\"\n",
    "    print(save_path)\n",
    "\n",
    "    ## Check no embedding exists\n",
    "    if not os.path.isfile(save_path):\n",
    "        try:  \n",
    "            ## Extract Protein Sequence as a String & Process through Model\n",
    "            path = \"/mnt/nvme/home/bbabatun/IDL/PROJECT/SPOT-1D-LM/spot_1d_lm/labels\"\n",
    "            labels = np.load(os.path.join(path, prot_name + \".npy\"), allow_pickle=True)\n",
    "            # seq = read_fasta_file(prot_path)\n",
    "            seq = ''.join(labels[:, 3])\n",
    "\n",
    "            ## Get raw sequence length\n",
    "            seq_len = len(seq)\n",
    "        \n",
    "            ## Replace Us with Xs to normalise encoding over models\n",
    "            seq = seq.replace(\"U\", \"X\")\n",
    "\n",
    "            ## Encode Input sequence\n",
    "            encoded_x = input_encoder.encode_X([seq], MAX_SEQ_LEN)\n",
    "\n",
    "            ## Obtain local & global embeddings\n",
    "            local_representations, global_representations = model.predict(encoded_x)\n",
    "            ##local_representations.to(args.file_list)\n",
    "\n",
    "            ## Remove padding, end and start tokens\n",
    "            save_arr = local_representations[0,1:seq_len,:]\n",
    "\n",
    "            ## Save np file\n",
    "            np.save(save_path, save_arr)\n",
    "            print(save_path)\n",
    "        except:\n",
    "            #   print(\"No file available for: \",  prot_name, prot_path)\n",
    "              print(\"No file available for: \",  prot_name, path)\n",
    "\n",
    "print(\" ProteinBERT embeddings generation completed ... \")"
   ]
  }
 ],
 "metadata": {
  "kernelspec": {
   "display_name": "pidlproj",
   "language": "python",
   "name": "python3"
  },
  "language_info": {
   "codemirror_mode": {
    "name": "ipython",
    "version": 3
   },
   "file_extension": ".py",
   "mimetype": "text/x-python",
   "name": "python",
   "nbconvert_exporter": "python",
   "pygments_lexer": "ipython3",
   "version": "3.8.18"
  },
  "orig_nbformat": 4,
  "vscode": {
   "interpreter": {
    "hash": "ba1e8113178b398b35b1392d0c84b982262947828fe3a59ba09fefe843166e88"
   }
  }
 },
 "nbformat": 4,
 "nbformat_minor": 2
}
